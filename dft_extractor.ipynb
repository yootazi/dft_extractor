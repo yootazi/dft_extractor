{
  "nbformat": 4,
  "nbformat_minor": 0,
  "metadata": {
    "kernelspec": {
      "display_name": "Python 3",
      "language": "python",
      "name": "python3"
    },
    "language_info": {
      "codemirror_mode": {
        "name": "ipython",
        "version": 3
      },
      "file_extension": ".py",
      "mimetype": "text/x-python",
      "name": "python",
      "nbconvert_exporter": "python",
      "pygments_lexer": "ipython3",
      "version": "3.6.9"
    },
    "colab": {
      "name": "dft_extractor.ipynb",
      "provenance": [],
      "include_colab_link": true
    }
  },
  "cells": [
    {
      "cell_type": "markdown",
      "metadata": {
        "id": "view-in-github",
        "colab_type": "text"
      },
      "source": [
        "<a href=\"https://colab.research.google.com/github/yootazi/dft_extractor/blob/main/dft_extractor.ipynb\" target=\"_parent\"><img src=\"https://colab.research.google.com/assets/colab-badge.svg\" alt=\"Open In Colab\"/></a>"
      ]
    },
    {
      "cell_type": "markdown",
      "metadata": {
        "id": "IDbPcngVPNaG"
      },
      "source": [
        "## **DFT Extractor**\n",
        "# Extracting DFT from an Audio Dataset located in Google Drive\n",
        "\n",
        "---\n",
        "\n",
        " by Yalda Zamani, 2021\n",
        "> Website: [www.yaldazamani.com](https://www.yaldazamani.com)\n",
        "\n",
        "> Twitter: [@yootazi](https://twitter.com/yootazi)\n",
        "\n",
        "\n",
        "> \n",
        "\n",
        "\n",
        "Currently it can be extract DFT (Discrete Fourier transform) from any dataset of .wav audio files at 44.1khz Sample Rate and 16bit bitdepth.\n",
        "\n",
        "> Credits:\n",
        "* coded following 'The Sound of AI' Youtube tutorial series by Valerio Velardo"
      ]
    },
    {
      "cell_type": "markdown",
      "metadata": {
        "id": "FIEQ1xwLPd_K"
      },
      "source": [
        "Create a folder in your Google Drive called ai_music_projects. Create another folder within ai_music_projects called DFT_Extractor. Create two empty folder 'audio' and 'dfts' within DFT_Extractor to store your audio files and retrieve DFTS.\n",
        "\n",
        "Make sure the path pointing to your folder look like these:\n",
        "\n",
        "'/content/gdrive/MyDrive/ai_music_projects/DFT_Extractor/audio'\n",
        "'/content/gdrive/MyDrive/ai_music_projects/DFT_Extractor/dfts'\n",
        "\n",
        "\n",
        "Move your audio files into the 'audio' folder."
      ]
    },
    {
      "cell_type": "code",
      "metadata": {
        "cellView": "form",
        "id": "mherAjNW7B_o"
      },
      "source": [
        "#@title **Importing Libraries**\n",
        "\n",
        "import os\n",
        "import matplotlib.pyplot as plt\n",
        "import librosa, librosa.display\n",
        "import IPython.display as ipd\n",
        "import numpy as np"
      ],
      "execution_count": 1,
      "outputs": []
    },
    {
      "cell_type": "code",
      "metadata": {
        "cellView": "form",
        "id": "g_sfiAhN949r"
      },
      "source": [
        "#@title **Mounting Google Drive**\n",
        "\n",
        "from google.colab import drive\n",
        "drive.mount('/content/gdrive/')"
      ],
      "execution_count": null,
      "outputs": []
    },
    {
      "cell_type": "code",
      "metadata": {
        "cellView": "form",
        "id": "EJUBjDa77B_r"
      },
      "source": [
        "#@title **Loading Audio File from Google Drive**\n",
        "\n",
        "BASE_FOLDER = \"/content/gdrive/MyDrive/ai_music_projects/DFT_Extractor/audio/\"\n",
        "violin_sound_file = \"violin_c.wav\"\n",
        "piano_sound_file = \"piano_c.wav\"\n",
        "sax_sound_file = \"sax.wav\"\n",
        "noise_sound_file = \"noise.wav\"\n",
        "\n"
      ],
      "execution_count": 20,
      "outputs": []
    },
    {
      "cell_type": "code",
      "metadata": {
        "id": "XD9OHmS57B_s"
      },
      "source": [
        "ipd.Audio(os.path.join(BASE_FOLDER, violin_sound_file)) "
      ],
      "execution_count": null,
      "outputs": []
    },
    {
      "cell_type": "code",
      "metadata": {
        "id": "OPKPKT2m7B_t"
      },
      "source": [
        "ipd.Audio(os.path.join(BASE_FOLDER, piano_sound_file)) "
      ],
      "execution_count": null,
      "outputs": []
    },
    {
      "cell_type": "code",
      "metadata": {
        "id": "Zq3Kqe1s7B_t"
      },
      "source": [
        "ipd.Audio(os.path.join(BASE_FOLDER, sax_sound_file)) "
      ],
      "execution_count": null,
      "outputs": []
    },
    {
      "cell_type": "code",
      "metadata": {
        "id": "6OnBiyAN7B_u"
      },
      "source": [
        "ipd.Audio(os.path.join(BASE_FOLDER, noise_sound_file)) "
      ],
      "execution_count": null,
      "outputs": []
    },
    {
      "cell_type": "code",
      "metadata": {
        "cellView": "form",
        "id": "E3_bEg9v7B_u"
      },
      "source": [
        "#@title **Loading Audio Files**\n",
        "\n",
        "violin_c4, sr = librosa.load(os.path.join(BASE_FOLDER, violin_sound_file))\n",
        "piano_c5, _ = librosa.load(os.path.join(BASE_FOLDER, piano_sound_file))\n",
        "sax_c4, _ = librosa.load(os.path.join(BASE_FOLDER, sax_sound_file))\n",
        "noise, _ = librosa.load(os.path.join(BASE_FOLDER, noise_sound_file))\n",
        "\n",
        "len(violin_c4)\n",
        "\n",
        "X = np.fft.fft(violin_c4)\n",
        "len(X)\n",
        "\n",
        "def plot_magnitude_spectrum(signal, sr, title, f_ratio=1):\n",
        "    X = np.fft.fft(signal)\n",
        "    X_mag = np.absolute(X)\n",
        "    \n",
        "    plt.figure(figsize=(18, 5))\n",
        "    \n",
        "    f = np.linspace(0, sr, len(X_mag))\n",
        "    f_bins = int(len(X_mag)*f_ratio)  \n",
        "    \n",
        "    plt.plot(f[:f_bins], X_mag[:f_bins])\n",
        "    plt.xlabel('Frequency (Hz)')\n",
        "    plt.title(title)\n",
        "\n",
        "plot_magnitude_spectrum(violin_c4, sr, \"violin\", 0.1)\n",
        "\n",
        "plot_magnitude_spectrum(piano_c5, sr, \"piano\", 0.1)\n",
        "\n",
        "plot_magnitude_spectrum(sax_c4, sr, \"sax\", 0.1)\n",
        "\n",
        "plot_magnitude_spectrum(noise, sr, \"noise\", 0.1)"
      ],
      "execution_count": null,
      "outputs": []
    }
  ]
}